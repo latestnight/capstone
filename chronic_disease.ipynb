{
 "cells": [
  {
   "cell_type": "code",
   "execution_count": null,
   "metadata": {},
   "outputs": [],
   "source": [
    "import pandas as pd"
   ]
  },
  {
   "cell_type": "code",
   "execution_count": null,
   "metadata": {},
   "outputs": [],
   "source": [
    " disease16= pd.read_csv('/Users/k.simmons/Desktop/NSS/data analytics bootcamp/capstone/Data/unaltered data/500_Cities__Census_Tract-level_Data__GIS_Friendly_Format___2016_release.csv')"
   ]
  },
  {
   "cell_type": "code",
   "execution_count": null,
   "metadata": {},
   "outputs": [],
   "source": [
    "disease16.head()"
   ]
  },
  {
   "cell_type": "code",
   "execution_count": null,
   "metadata": {},
   "outputs": [],
   "source": [
    "disease16.shape"
   ]
  },
  {
   "cell_type": "code",
   "execution_count": null,
   "metadata": {},
   "outputs": [],
   "source": [
    "TNfilter16 = disease16['StateAbbr'].isin(['TN'])\n",
    "chronic_disease_TN16 = disease16[TNfilter16]\n",
    "Nashfilter16 = chronic_disease_TN16['PlaceName'].isin(['Nashville'])\n",
    "Nashdisease16 = chronic_disease_TN16[Nashfilter16]\n",
    "#Nashdisease16.to_excel('nashdisease2016.xlsx')"
   ]
  },
  {
   "cell_type": "code",
   "execution_count": 71,
   "metadata": {},
   "outputs": [
    {
     "data": {
      "text/plain": [
       "(156, 63)"
      ]
     },
     "execution_count": 71,
     "metadata": {},
     "output_type": "execute_result"
    }
   ],
   "source": [
    "Nashdisease16.shape"
   ]
  },
  {
   "cell_type": "code",
   "execution_count": null,
   "metadata": {},
   "outputs": [],
   "source": [
    "Nashdisease16.head()"
   ]
  },
  {
   "cell_type": "code",
   "execution_count": null,
   "metadata": {},
   "outputs": [],
   "source": [
    "Nashdisease16.shape"
   ]
  },
  {
   "cell_type": "code",
   "execution_count": 54,
   "metadata": {},
   "outputs": [],
   "source": [
    "disease17 = pd.read_csv('/Users/k.simmons/Desktop/NSS/data analytics bootcamp/capstone/Data/unaltered data/500_Cities__Census_Tract-level_Data__GIS_Friendly_Format___2017_release.csv')"
   ]
  },
  {
   "cell_type": "code",
   "execution_count": 55,
   "metadata": {},
   "outputs": [
    {
     "data": {
      "text/html": [
       "<div>\n",
       "<style scoped>\n",
       "    .dataframe tbody tr th:only-of-type {\n",
       "        vertical-align: middle;\n",
       "    }\n",
       "\n",
       "    .dataframe tbody tr th {\n",
       "        vertical-align: top;\n",
       "    }\n",
       "\n",
       "    .dataframe thead th {\n",
       "        text-align: right;\n",
       "    }\n",
       "</style>\n",
       "<table border=\"1\" class=\"dataframe\">\n",
       "  <thead>\n",
       "    <tr style=\"text-align: right;\">\n",
       "      <th></th>\n",
       "      <th>StateAbbr</th>\n",
       "      <th>PlaceName</th>\n",
       "      <th>PlaceFIPS</th>\n",
       "      <th>TractFIPS</th>\n",
       "      <th>Place_TractID</th>\n",
       "      <th>population_count</th>\n",
       "      <th>ACCESS2_CrudePrev</th>\n",
       "      <th>ACCESS2_Crude95CI</th>\n",
       "      <th>ARTHRITIS_CrudePrev</th>\n",
       "      <th>ARTHRITIS_Crude95CI</th>\n",
       "      <th>...</th>\n",
       "      <th>PAPTEST_Crude95CI</th>\n",
       "      <th>PHLTH_CrudePrev</th>\n",
       "      <th>PHLTH_Crude95CI</th>\n",
       "      <th>SLEEP_CrudePrev</th>\n",
       "      <th>SLEEP_Crude95CI</th>\n",
       "      <th>STROKE_CrudePrev</th>\n",
       "      <th>STROKE_Crude95CI</th>\n",
       "      <th>TEETHLOST_CrudePrev</th>\n",
       "      <th>TEETHLOST_Crude95CI</th>\n",
       "      <th>Geolocation</th>\n",
       "    </tr>\n",
       "  </thead>\n",
       "  <tbody>\n",
       "    <tr>\n",
       "      <th>0</th>\n",
       "      <td>AL</td>\n",
       "      <td>Birmingham</td>\n",
       "      <td>107000</td>\n",
       "      <td>1073000100</td>\n",
       "      <td>0107000-01073000100</td>\n",
       "      <td>3042</td>\n",
       "      <td>23.9</td>\n",
       "      <td>(21.2, 27.2)</td>\n",
       "      <td>32.5</td>\n",
       "      <td>(31.5, 33.6)</td>\n",
       "      <td>...</td>\n",
       "      <td>(73.1, 78.6)</td>\n",
       "      <td>19.6</td>\n",
       "      <td>(18.2, 21.2)</td>\n",
       "      <td>50.4</td>\n",
       "      <td>(49.1, 51.6)</td>\n",
       "      <td>5.5</td>\n",
       "      <td>( 5.0,  6.0)</td>\n",
       "      <td>30.2</td>\n",
       "      <td>(24.1, 36.3)</td>\n",
       "      <td>(33.57943283260, -86.7228323926)</td>\n",
       "    </tr>\n",
       "    <tr>\n",
       "      <th>1</th>\n",
       "      <td>AL</td>\n",
       "      <td>Birmingham</td>\n",
       "      <td>107000</td>\n",
       "      <td>1073000300</td>\n",
       "      <td>0107000-01073000300</td>\n",
       "      <td>2735</td>\n",
       "      <td>28.8</td>\n",
       "      <td>(25.4, 32.4)</td>\n",
       "      <td>31.3</td>\n",
       "      <td>(30.0, 32.4)</td>\n",
       "      <td>...</td>\n",
       "      <td>(70.0, 76.4)</td>\n",
       "      <td>20.2</td>\n",
       "      <td>(18.5, 22.0)</td>\n",
       "      <td>49.4</td>\n",
       "      <td>(47.8, 50.8)</td>\n",
       "      <td>5.7</td>\n",
       "      <td>( 5.1,  6.4)</td>\n",
       "      <td>33.3</td>\n",
       "      <td>(25.6, 41.0)</td>\n",
       "      <td>(33.54282086860, -86.7524339780)</td>\n",
       "    </tr>\n",
       "    <tr>\n",
       "      <th>2</th>\n",
       "      <td>AL</td>\n",
       "      <td>Birmingham</td>\n",
       "      <td>107000</td>\n",
       "      <td>1073000400</td>\n",
       "      <td>0107000-01073000400</td>\n",
       "      <td>3338</td>\n",
       "      <td>26.1</td>\n",
       "      <td>(22.6, 29.9)</td>\n",
       "      <td>34.6</td>\n",
       "      <td>(33.2, 35.9)</td>\n",
       "      <td>...</td>\n",
       "      <td>(69.4, 76.2)</td>\n",
       "      <td>21.1</td>\n",
       "      <td>(19.1, 23.1)</td>\n",
       "      <td>52.5</td>\n",
       "      <td>(51.2, 53.7)</td>\n",
       "      <td>6.5</td>\n",
       "      <td>( 5.8,  7.2)</td>\n",
       "      <td>36.0</td>\n",
       "      <td>(28.9, 43.5)</td>\n",
       "      <td>(33.56324496330, -86.7640474064)</td>\n",
       "    </tr>\n",
       "    <tr>\n",
       "      <th>3</th>\n",
       "      <td>AL</td>\n",
       "      <td>Birmingham</td>\n",
       "      <td>107000</td>\n",
       "      <td>1073000500</td>\n",
       "      <td>0107000-01073000500</td>\n",
       "      <td>2864</td>\n",
       "      <td>28.1</td>\n",
       "      <td>(24.6, 32.0)</td>\n",
       "      <td>37.8</td>\n",
       "      <td>(36.3, 39.2)</td>\n",
       "      <td>...</td>\n",
       "      <td>(67.0, 74.5)</td>\n",
       "      <td>23.1</td>\n",
       "      <td>(21.0, 25.4)</td>\n",
       "      <td>52.6</td>\n",
       "      <td>(51.1, 54.0)</td>\n",
       "      <td>8.2</td>\n",
       "      <td>( 7.3,  9.2)</td>\n",
       "      <td>40.2</td>\n",
       "      <td>(31.1, 48.9)</td>\n",
       "      <td>(33.54424045940, -86.7749130719)</td>\n",
       "    </tr>\n",
       "    <tr>\n",
       "      <th>4</th>\n",
       "      <td>AL</td>\n",
       "      <td>Birmingham</td>\n",
       "      <td>107000</td>\n",
       "      <td>1073000700</td>\n",
       "      <td>0107000-01073000700</td>\n",
       "      <td>2577</td>\n",
       "      <td>31.8</td>\n",
       "      <td>(27.0, 36.7)</td>\n",
       "      <td>38.5</td>\n",
       "      <td>(37.1, 39.9)</td>\n",
       "      <td>...</td>\n",
       "      <td>(62.9, 71.9)</td>\n",
       "      <td>25.8</td>\n",
       "      <td>(23.5, 28.2)</td>\n",
       "      <td>54.1</td>\n",
       "      <td>(52.3, 55.6)</td>\n",
       "      <td>9.6</td>\n",
       "      <td>( 8.5, 10.7)</td>\n",
       "      <td>45.8</td>\n",
       "      <td>(35.2, 56.1)</td>\n",
       "      <td>(33.55254061390, -86.8016893706)</td>\n",
       "    </tr>\n",
       "  </tbody>\n",
       "</table>\n",
       "<p>5 rows × 63 columns</p>\n",
       "</div>"
      ],
      "text/plain": [
       "  StateAbbr   PlaceName  PlaceFIPS   TractFIPS        Place_TractID  \\\n",
       "0        AL  Birmingham     107000  1073000100  0107000-01073000100   \n",
       "1        AL  Birmingham     107000  1073000300  0107000-01073000300   \n",
       "2        AL  Birmingham     107000  1073000400  0107000-01073000400   \n",
       "3        AL  Birmingham     107000  1073000500  0107000-01073000500   \n",
       "4        AL  Birmingham     107000  1073000700  0107000-01073000700   \n",
       "\n",
       "   population_count  ACCESS2_CrudePrev ACCESS2_Crude95CI  ARTHRITIS_CrudePrev  \\\n",
       "0              3042               23.9      (21.2, 27.2)                 32.5   \n",
       "1              2735               28.8      (25.4, 32.4)                 31.3   \n",
       "2              3338               26.1      (22.6, 29.9)                 34.6   \n",
       "3              2864               28.1      (24.6, 32.0)                 37.8   \n",
       "4              2577               31.8      (27.0, 36.7)                 38.5   \n",
       "\n",
       "  ARTHRITIS_Crude95CI  ...  PAPTEST_Crude95CI PHLTH_CrudePrev  \\\n",
       "0        (31.5, 33.6)  ...       (73.1, 78.6)            19.6   \n",
       "1        (30.0, 32.4)  ...       (70.0, 76.4)            20.2   \n",
       "2        (33.2, 35.9)  ...       (69.4, 76.2)            21.1   \n",
       "3        (36.3, 39.2)  ...       (67.0, 74.5)            23.1   \n",
       "4        (37.1, 39.9)  ...       (62.9, 71.9)            25.8   \n",
       "\n",
       "   PHLTH_Crude95CI SLEEP_CrudePrev  SLEEP_Crude95CI STROKE_CrudePrev  \\\n",
       "0     (18.2, 21.2)            50.4     (49.1, 51.6)              5.5   \n",
       "1     (18.5, 22.0)            49.4     (47.8, 50.8)              5.7   \n",
       "2     (19.1, 23.1)            52.5     (51.2, 53.7)              6.5   \n",
       "3     (21.0, 25.4)            52.6     (51.1, 54.0)              8.2   \n",
       "4     (23.5, 28.2)            54.1     (52.3, 55.6)              9.6   \n",
       "\n",
       "   STROKE_Crude95CI TEETHLOST_CrudePrev  TEETHLOST_Crude95CI  \\\n",
       "0      ( 5.0,  6.0)                30.2         (24.1, 36.3)   \n",
       "1      ( 5.1,  6.4)                33.3         (25.6, 41.0)   \n",
       "2      ( 5.8,  7.2)                36.0         (28.9, 43.5)   \n",
       "3      ( 7.3,  9.2)                40.2         (31.1, 48.9)   \n",
       "4      ( 8.5, 10.7)                45.8         (35.2, 56.1)   \n",
       "\n",
       "                        Geolocation  \n",
       "0  (33.57943283260, -86.7228323926)  \n",
       "1  (33.54282086860, -86.7524339780)  \n",
       "2  (33.56324496330, -86.7640474064)  \n",
       "3  (33.54424045940, -86.7749130719)  \n",
       "4  (33.55254061390, -86.8016893706)  \n",
       "\n",
       "[5 rows x 63 columns]"
      ]
     },
     "execution_count": 55,
     "metadata": {},
     "output_type": "execute_result"
    }
   ],
   "source": [
    "disease17.head()"
   ]
  },
  {
   "cell_type": "code",
   "execution_count": 56,
   "metadata": {},
   "outputs": [
    {
     "data": {
      "text/plain": [
       "(27210, 63)"
      ]
     },
     "execution_count": 56,
     "metadata": {},
     "output_type": "execute_result"
    }
   ],
   "source": [
    "disease17.shape"
   ]
  },
  {
   "cell_type": "code",
   "execution_count": 57,
   "metadata": {},
   "outputs": [],
   "source": [
    "TNfilter17 = disease17['StateAbbr'].isin(['TN'])\n",
    "chronic_disease_TN17 = disease17[TNfilter17]\n",
    "Nashfilter17 = chronic_disease_TN17['PlaceName'].isin(['Nashville'])\n",
    "Nashdisease17 = chronic_disease_TN17[Nashfilter17]\n",
    "#Nashdisease17.to_excel('nashdisease2017.xlsx')"
   ]
  },
  {
   "cell_type": "code",
   "execution_count": 70,
   "metadata": {},
   "outputs": [
    {
     "data": {
      "text/plain": [
       "(156, 63)"
      ]
     },
     "execution_count": 70,
     "metadata": {},
     "output_type": "execute_result"
    }
   ],
   "source": [
    "Nashdisease17.shape"
   ]
  },
  {
   "cell_type": "code",
   "execution_count": 58,
   "metadata": {},
   "outputs": [
    {
     "data": {
      "text/html": [
       "<div>\n",
       "<style scoped>\n",
       "    .dataframe tbody tr th:only-of-type {\n",
       "        vertical-align: middle;\n",
       "    }\n",
       "\n",
       "    .dataframe tbody tr th {\n",
       "        vertical-align: top;\n",
       "    }\n",
       "\n",
       "    .dataframe thead th {\n",
       "        text-align: right;\n",
       "    }\n",
       "</style>\n",
       "<table border=\"1\" class=\"dataframe\">\n",
       "  <thead>\n",
       "    <tr style=\"text-align: right;\">\n",
       "      <th></th>\n",
       "      <th>StateAbbr</th>\n",
       "      <th>PlaceName</th>\n",
       "      <th>PlaceFIPS</th>\n",
       "      <th>TractFIPS</th>\n",
       "      <th>Place_TractID</th>\n",
       "      <th>population_count</th>\n",
       "      <th>ACCESS2_CrudePrev</th>\n",
       "      <th>ACCESS2_Crude95CI</th>\n",
       "      <th>ARTHRITIS_CrudePrev</th>\n",
       "      <th>ARTHRITIS_Crude95CI</th>\n",
       "      <th>...</th>\n",
       "      <th>PAPTEST_Crude95CI</th>\n",
       "      <th>PHLTH_CrudePrev</th>\n",
       "      <th>PHLTH_Crude95CI</th>\n",
       "      <th>SLEEP_CrudePrev</th>\n",
       "      <th>SLEEP_Crude95CI</th>\n",
       "      <th>STROKE_CrudePrev</th>\n",
       "      <th>STROKE_Crude95CI</th>\n",
       "      <th>TEETHLOST_CrudePrev</th>\n",
       "      <th>TEETHLOST_Crude95CI</th>\n",
       "      <th>Geolocation</th>\n",
       "    </tr>\n",
       "  </thead>\n",
       "  <tbody>\n",
       "    <tr>\n",
       "      <th>22409</th>\n",
       "      <td>TN</td>\n",
       "      <td>Nashville</td>\n",
       "      <td>4752006</td>\n",
       "      <td>47037010103</td>\n",
       "      <td>4752006-47037010103</td>\n",
       "      <td>2377</td>\n",
       "      <td>10.8</td>\n",
       "      <td>( 9.0, 12.6)</td>\n",
       "      <td>31.9</td>\n",
       "      <td>(30.6, 33.2)</td>\n",
       "      <td>...</td>\n",
       "      <td>(84.2, 88.3)</td>\n",
       "      <td>14.4</td>\n",
       "      <td>(13.1, 15.9)</td>\n",
       "      <td>31.6</td>\n",
       "      <td>(30.1, 33.0)</td>\n",
       "      <td>3.3</td>\n",
       "      <td>( 2.9,  3.7)</td>\n",
       "      <td>14.0</td>\n",
       "      <td>(10.0, 19.1)</td>\n",
       "      <td>(36.34795051870, -86.8675409005)</td>\n",
       "    </tr>\n",
       "    <tr>\n",
       "      <th>22410</th>\n",
       "      <td>TN</td>\n",
       "      <td>Nashville</td>\n",
       "      <td>4752006</td>\n",
       "      <td>47037010104</td>\n",
       "      <td>4752006-47037010104</td>\n",
       "      <td>3070</td>\n",
       "      <td>11.0</td>\n",
       "      <td>( 9.5, 12.8)</td>\n",
       "      <td>31.4</td>\n",
       "      <td>(30.0, 32.8)</td>\n",
       "      <td>...</td>\n",
       "      <td>(82.4, 86.9)</td>\n",
       "      <td>14.3</td>\n",
       "      <td>(12.8, 15.8)</td>\n",
       "      <td>33.1</td>\n",
       "      <td>(31.6, 34.5)</td>\n",
       "      <td>3.3</td>\n",
       "      <td>( 2.9,  3.6)</td>\n",
       "      <td>16.8</td>\n",
       "      <td>(12.3, 21.7)</td>\n",
       "      <td>(36.29624214450, -86.8843736030)</td>\n",
       "    </tr>\n",
       "    <tr>\n",
       "      <th>22411</th>\n",
       "      <td>TN</td>\n",
       "      <td>Nashville</td>\n",
       "      <td>4752006</td>\n",
       "      <td>47037010105</td>\n",
       "      <td>4752006-47037010105</td>\n",
       "      <td>4268</td>\n",
       "      <td>13.9</td>\n",
       "      <td>(11.6, 16.6)</td>\n",
       "      <td>31.8</td>\n",
       "      <td>(30.3, 33.5)</td>\n",
       "      <td>...</td>\n",
       "      <td>(83.9, 88.6)</td>\n",
       "      <td>14.7</td>\n",
       "      <td>(13.0, 16.6)</td>\n",
       "      <td>40.7</td>\n",
       "      <td>(38.9, 42.4)</td>\n",
       "      <td>4.5</td>\n",
       "      <td>( 3.9,  5.2)</td>\n",
       "      <td>20.7</td>\n",
       "      <td>(14.0, 28.7)</td>\n",
       "      <td>(36.24886606420, -86.8538782901)</td>\n",
       "    </tr>\n",
       "    <tr>\n",
       "      <th>22412</th>\n",
       "      <td>TN</td>\n",
       "      <td>Nashville</td>\n",
       "      <td>4752006</td>\n",
       "      <td>47037010106</td>\n",
       "      <td>4752006-47037010106</td>\n",
       "      <td>2668</td>\n",
       "      <td>20.3</td>\n",
       "      <td>(18.1, 22.7)</td>\n",
       "      <td>29.9</td>\n",
       "      <td>(29.0, 30.8)</td>\n",
       "      <td>...</td>\n",
       "      <td>(83.9, 86.7)</td>\n",
       "      <td>17.9</td>\n",
       "      <td>(16.7, 19.2)</td>\n",
       "      <td>42.6</td>\n",
       "      <td>(41.4, 43.7)</td>\n",
       "      <td>4.7</td>\n",
       "      <td>( 4.4,  5.1)</td>\n",
       "      <td>23.3</td>\n",
       "      <td>(18.6, 28.2)</td>\n",
       "      <td>(36.25370835670, -86.8036071070)</td>\n",
       "    </tr>\n",
       "    <tr>\n",
       "      <th>22413</th>\n",
       "      <td>TN</td>\n",
       "      <td>Nashville</td>\n",
       "      <td>4752006</td>\n",
       "      <td>47037010201</td>\n",
       "      <td>4752006-47037010201</td>\n",
       "      <td>4041</td>\n",
       "      <td>13.4</td>\n",
       "      <td>(12.1, 14.7)</td>\n",
       "      <td>28.3</td>\n",
       "      <td>(27.5, 29.0)</td>\n",
       "      <td>...</td>\n",
       "      <td>(85.3, 87.6)</td>\n",
       "      <td>13.5</td>\n",
       "      <td>(12.7, 14.3)</td>\n",
       "      <td>36.7</td>\n",
       "      <td>(35.8, 37.6)</td>\n",
       "      <td>3.3</td>\n",
       "      <td>( 3.1,  3.5)</td>\n",
       "      <td>16.9</td>\n",
       "      <td>(13.3, 20.8)</td>\n",
       "      <td>(36.28825140840, -86.7728204615)</td>\n",
       "    </tr>\n",
       "  </tbody>\n",
       "</table>\n",
       "<p>5 rows × 63 columns</p>\n",
       "</div>"
      ],
      "text/plain": [
       "      StateAbbr  PlaceName  PlaceFIPS    TractFIPS        Place_TractID  \\\n",
       "22409        TN  Nashville    4752006  47037010103  4752006-47037010103   \n",
       "22410        TN  Nashville    4752006  47037010104  4752006-47037010104   \n",
       "22411        TN  Nashville    4752006  47037010105  4752006-47037010105   \n",
       "22412        TN  Nashville    4752006  47037010106  4752006-47037010106   \n",
       "22413        TN  Nashville    4752006  47037010201  4752006-47037010201   \n",
       "\n",
       "       population_count  ACCESS2_CrudePrev ACCESS2_Crude95CI  \\\n",
       "22409              2377               10.8      ( 9.0, 12.6)   \n",
       "22410              3070               11.0      ( 9.5, 12.8)   \n",
       "22411              4268               13.9      (11.6, 16.6)   \n",
       "22412              2668               20.3      (18.1, 22.7)   \n",
       "22413              4041               13.4      (12.1, 14.7)   \n",
       "\n",
       "       ARTHRITIS_CrudePrev ARTHRITIS_Crude95CI  ...  PAPTEST_Crude95CI  \\\n",
       "22409                 31.9        (30.6, 33.2)  ...       (84.2, 88.3)   \n",
       "22410                 31.4        (30.0, 32.8)  ...       (82.4, 86.9)   \n",
       "22411                 31.8        (30.3, 33.5)  ...       (83.9, 88.6)   \n",
       "22412                 29.9        (29.0, 30.8)  ...       (83.9, 86.7)   \n",
       "22413                 28.3        (27.5, 29.0)  ...       (85.3, 87.6)   \n",
       "\n",
       "      PHLTH_CrudePrev  PHLTH_Crude95CI SLEEP_CrudePrev  SLEEP_Crude95CI  \\\n",
       "22409            14.4     (13.1, 15.9)            31.6     (30.1, 33.0)   \n",
       "22410            14.3     (12.8, 15.8)            33.1     (31.6, 34.5)   \n",
       "22411            14.7     (13.0, 16.6)            40.7     (38.9, 42.4)   \n",
       "22412            17.9     (16.7, 19.2)            42.6     (41.4, 43.7)   \n",
       "22413            13.5     (12.7, 14.3)            36.7     (35.8, 37.6)   \n",
       "\n",
       "      STROKE_CrudePrev  STROKE_Crude95CI TEETHLOST_CrudePrev  \\\n",
       "22409              3.3      ( 2.9,  3.7)                14.0   \n",
       "22410              3.3      ( 2.9,  3.6)                16.8   \n",
       "22411              4.5      ( 3.9,  5.2)                20.7   \n",
       "22412              4.7      ( 4.4,  5.1)                23.3   \n",
       "22413              3.3      ( 3.1,  3.5)                16.9   \n",
       "\n",
       "       TEETHLOST_Crude95CI                       Geolocation  \n",
       "22409         (10.0, 19.1)  (36.34795051870, -86.8675409005)  \n",
       "22410         (12.3, 21.7)  (36.29624214450, -86.8843736030)  \n",
       "22411         (14.0, 28.7)  (36.24886606420, -86.8538782901)  \n",
       "22412         (18.6, 28.2)  (36.25370835670, -86.8036071070)  \n",
       "22413         (13.3, 20.8)  (36.28825140840, -86.7728204615)  \n",
       "\n",
       "[5 rows x 63 columns]"
      ]
     },
     "execution_count": 58,
     "metadata": {},
     "output_type": "execute_result"
    }
   ],
   "source": [
    "Nashdisease17.head()"
   ]
  },
  {
   "cell_type": "code",
   "execution_count": 62,
   "metadata": {},
   "outputs": [],
   "source": [
    "disease18 = pd.read_csv('/Users/k.simmons/Desktop/NSS/data analytics bootcamp/capstone/Data/unaltered data/500_Cities__Census_Tract-level_Data__GIS_Friendly_Format___2018_release.csv')"
   ]
  },
  {
   "cell_type": "code",
   "execution_count": 63,
   "metadata": {},
   "outputs": [
    {
     "data": {
      "text/plain": [
       "(27210, 63)"
      ]
     },
     "execution_count": 63,
     "metadata": {},
     "output_type": "execute_result"
    }
   ],
   "source": [
    "disease18.shape"
   ]
  },
  {
   "cell_type": "code",
   "execution_count": 64,
   "metadata": {},
   "outputs": [],
   "source": [
    "TNfilter18 = disease18['StateAbbr'].isin(['TN'])\n",
    "chronic_disease_TN18 = disease18[TNfilter18]\n",
    "Nashfilter18 = chronic_disease_TN18['PlaceName'].isin(['Nashville'])\n",
    "Nashdisease18 = chronic_disease_TN18[Nashfilter18]\n",
    "Nashdisease18.to_excel('nashdisease2018.xlsx')"
   ]
  },
  {
   "cell_type": "code",
   "execution_count": 69,
   "metadata": {},
   "outputs": [
    {
     "data": {
      "text/plain": [
       "(156, 63)"
      ]
     },
     "execution_count": 69,
     "metadata": {},
     "output_type": "execute_result"
    }
   ],
   "source": [
    "Nashdisease18.shape"
   ]
  },
  {
   "cell_type": "code",
   "execution_count": null,
   "metadata": {},
   "outputs": [],
   "source": [
    " disease19= pd.read_csv('/Users/k.simmons/Desktop/NSS/data analytics bootcamp/capstone/Data/unaltered data/500_Cities__Census_Tract-level_Data__GIS_Friendly_Format___2019_release.csv')"
   ]
  },
  {
   "cell_type": "code",
   "execution_count": null,
   "metadata": {},
   "outputs": [],
   "source": [
    "disease19.head(1)"
   ]
  },
  {
   "cell_type": "code",
   "execution_count": null,
   "metadata": {},
   "outputs": [],
   "source": [
    "disease19.shape"
   ]
  },
  {
   "cell_type": "code",
   "execution_count": null,
   "metadata": {},
   "outputs": [],
   "source": [
    "TNfilter19 = disease19['StateAbbr'].isin(['TN'])\n",
    "chronic_disease_TN19 = disease19[TNfilter19]\n",
    "Nashfilter19 = chronic_disease_TN19['PlaceName'].isin(['Nashville'])\n",
    "Nashdisease19 = chronic_disease_TN19[Nashfilter19]\n",
    "#Nashdisease19.to_excel('nashdisease2019.xlsx')"
   ]
  },
  {
   "cell_type": "code",
   "execution_count": 68,
   "metadata": {},
   "outputs": [
    {
     "data": {
      "text/plain": [
       "(156, 63)"
      ]
     },
     "execution_count": 68,
     "metadata": {},
     "output_type": "execute_result"
    }
   ],
   "source": [
    "Nashdisease19.shape"
   ]
  },
  {
   "cell_type": "code",
   "execution_count": 78,
   "metadata": {},
   "outputs": [],
   "source": [
    "disease20 = pd.read_csv('/Users/k.simmons/Desktop/NSS/data analytics bootcamp/capstone/Data/unaltered data/PLACES__Place_Data__GIS_Friendly_Format___2020_release.csv')"
   ]
  },
  {
   "cell_type": "code",
   "execution_count": 79,
   "metadata": {},
   "outputs": [
    {
     "data": {
      "text/plain": [
       "(28484, 118)"
      ]
     },
     "execution_count": 79,
     "metadata": {},
     "output_type": "execute_result"
    }
   ],
   "source": [
    "disease20.shape"
   ]
  },
  {
   "cell_type": "code",
   "execution_count": 80,
   "metadata": {},
   "outputs": [
    {
     "data": {
      "text/html": [
       "<div>\n",
       "<style scoped>\n",
       "    .dataframe tbody tr th:only-of-type {\n",
       "        vertical-align: middle;\n",
       "    }\n",
       "\n",
       "    .dataframe tbody tr th {\n",
       "        vertical-align: top;\n",
       "    }\n",
       "\n",
       "    .dataframe thead th {\n",
       "        text-align: right;\n",
       "    }\n",
       "</style>\n",
       "<table border=\"1\" class=\"dataframe\">\n",
       "  <thead>\n",
       "    <tr style=\"text-align: right;\">\n",
       "      <th></th>\n",
       "      <th>StateAbbr</th>\n",
       "      <th>StateDesc</th>\n",
       "      <th>PlaceName</th>\n",
       "      <th>PlaceFIPS</th>\n",
       "      <th>TotalPopulation</th>\n",
       "      <th>ACCESS2_CrudePrev</th>\n",
       "      <th>ACCESS2_Crude95CI</th>\n",
       "      <th>ACCESS2_AdjPrev</th>\n",
       "      <th>ACCESS2_Adj95CI</th>\n",
       "      <th>ARTHRITIS_CrudePrev</th>\n",
       "      <th>...</th>\n",
       "      <th>SLEEP_Adj95CI</th>\n",
       "      <th>STROKE_CrudePrev</th>\n",
       "      <th>STROKE_Crude95CI</th>\n",
       "      <th>STROKE_AdjPrev</th>\n",
       "      <th>STROKE_Adj95CI</th>\n",
       "      <th>TEETHLOST_CrudePrev</th>\n",
       "      <th>TEETHLOST_Crude95CI</th>\n",
       "      <th>TEETHLOST_AdjPrev</th>\n",
       "      <th>TEETHLOST_Adj95CI</th>\n",
       "      <th>Geolocation</th>\n",
       "    </tr>\n",
       "  </thead>\n",
       "  <tbody>\n",
       "    <tr>\n",
       "      <th>0</th>\n",
       "      <td>AL</td>\n",
       "      <td>Alabama</td>\n",
       "      <td>Abanda</td>\n",
       "      <td>100100</td>\n",
       "      <td>192</td>\n",
       "      <td>18.8</td>\n",
       "      <td>(15.7, 21.9)</td>\n",
       "      <td>19.0</td>\n",
       "      <td>(15.9, 22.2)</td>\n",
       "      <td>36.3</td>\n",
       "      <td>...</td>\n",
       "      <td>(38.9, 41.9)</td>\n",
       "      <td>5.3</td>\n",
       "      <td>( 4.8,  6.0)</td>\n",
       "      <td>4.7</td>\n",
       "      <td>( 4.2,  5.2)</td>\n",
       "      <td>25.4</td>\n",
       "      <td>(17.3, 34.2)</td>\n",
       "      <td>26.0</td>\n",
       "      <td>(18.7, 33.2)</td>\n",
       "      <td>POINT (-85.524638 33.09136893)</td>\n",
       "    </tr>\n",
       "    <tr>\n",
       "      <th>1</th>\n",
       "      <td>AL</td>\n",
       "      <td>Alabama</td>\n",
       "      <td>Abbeville</td>\n",
       "      <td>100124</td>\n",
       "      <td>2688</td>\n",
       "      <td>17.5</td>\n",
       "      <td>(15.1, 20.0)</td>\n",
       "      <td>18.4</td>\n",
       "      <td>(15.9, 21.2)</td>\n",
       "      <td>38.2</td>\n",
       "      <td>...</td>\n",
       "      <td>(40.2, 42.9)</td>\n",
       "      <td>5.7</td>\n",
       "      <td>( 5.2,  6.4)</td>\n",
       "      <td>4.2</td>\n",
       "      <td>( 3.8,  4.6)</td>\n",
       "      <td>22.4</td>\n",
       "      <td>(15.8, 29.8)</td>\n",
       "      <td>21.9</td>\n",
       "      <td>(15.9, 28.4)</td>\n",
       "      <td>POINT (-85.25278085 31.56640742)</td>\n",
       "    </tr>\n",
       "    <tr>\n",
       "      <th>2</th>\n",
       "      <td>AL</td>\n",
       "      <td>Alabama</td>\n",
       "      <td>Adamsville</td>\n",
       "      <td>100460</td>\n",
       "      <td>4522</td>\n",
       "      <td>17.1</td>\n",
       "      <td>(15.5, 18.6)</td>\n",
       "      <td>17.9</td>\n",
       "      <td>(16.2, 19.6)</td>\n",
       "      <td>34.2</td>\n",
       "      <td>...</td>\n",
       "      <td>(40.8, 42.3)</td>\n",
       "      <td>4.8</td>\n",
       "      <td>( 4.5,  5.1)</td>\n",
       "      <td>4.2</td>\n",
       "      <td>( 3.9,  4.4)</td>\n",
       "      <td>20.6</td>\n",
       "      <td>(17.0, 24.9)</td>\n",
       "      <td>20.8</td>\n",
       "      <td>(17.1, 25.0)</td>\n",
       "      <td>POINT (-87.007999 33.62019948)</td>\n",
       "    </tr>\n",
       "    <tr>\n",
       "      <th>3</th>\n",
       "      <td>AL</td>\n",
       "      <td>Alabama</td>\n",
       "      <td>Addison</td>\n",
       "      <td>100484</td>\n",
       "      <td>758</td>\n",
       "      <td>15.1</td>\n",
       "      <td>(12.9, 17.4)</td>\n",
       "      <td>15.4</td>\n",
       "      <td>(13.1, 17.9)</td>\n",
       "      <td>36.3</td>\n",
       "      <td>...</td>\n",
       "      <td>(36.7, 39.5)</td>\n",
       "      <td>4.2</td>\n",
       "      <td>( 3.8,  4.6)</td>\n",
       "      <td>3.5</td>\n",
       "      <td>( 3.2,  3.8)</td>\n",
       "      <td>19.3</td>\n",
       "      <td>(14.3, 24.9)</td>\n",
       "      <td>20.0</td>\n",
       "      <td>(14.7, 25.7)</td>\n",
       "      <td>POINT (-87.17656313 34.20163288)</td>\n",
       "    </tr>\n",
       "    <tr>\n",
       "      <th>4</th>\n",
       "      <td>AL</td>\n",
       "      <td>Alabama</td>\n",
       "      <td>Akron</td>\n",
       "      <td>100676</td>\n",
       "      <td>356</td>\n",
       "      <td>18.4</td>\n",
       "      <td>(15.2, 22.0)</td>\n",
       "      <td>19.9</td>\n",
       "      <td>(16.4, 23.8)</td>\n",
       "      <td>38.4</td>\n",
       "      <td>...</td>\n",
       "      <td>(43.8, 47.5)</td>\n",
       "      <td>6.2</td>\n",
       "      <td>( 5.5,  6.9)</td>\n",
       "      <td>5.4</td>\n",
       "      <td>( 4.8,  5.9)</td>\n",
       "      <td>25.2</td>\n",
       "      <td>(18.5, 33.0)</td>\n",
       "      <td>25.3</td>\n",
       "      <td>(18.5, 32.6)</td>\n",
       "      <td>POINT (-87.74285611 32.87854106)</td>\n",
       "    </tr>\n",
       "  </tbody>\n",
       "</table>\n",
       "<p>5 rows × 118 columns</p>\n",
       "</div>"
      ],
      "text/plain": [
       "  StateAbbr StateDesc   PlaceName  PlaceFIPS  TotalPopulation  \\\n",
       "0        AL   Alabama      Abanda     100100              192   \n",
       "1        AL   Alabama   Abbeville     100124             2688   \n",
       "2        AL   Alabama  Adamsville     100460             4522   \n",
       "3        AL   Alabama     Addison     100484              758   \n",
       "4        AL   Alabama       Akron     100676              356   \n",
       "\n",
       "   ACCESS2_CrudePrev ACCESS2_Crude95CI  ACCESS2_AdjPrev ACCESS2_Adj95CI  \\\n",
       "0               18.8      (15.7, 21.9)             19.0    (15.9, 22.2)   \n",
       "1               17.5      (15.1, 20.0)             18.4    (15.9, 21.2)   \n",
       "2               17.1      (15.5, 18.6)             17.9    (16.2, 19.6)   \n",
       "3               15.1      (12.9, 17.4)             15.4    (13.1, 17.9)   \n",
       "4               18.4      (15.2, 22.0)             19.9    (16.4, 23.8)   \n",
       "\n",
       "   ARTHRITIS_CrudePrev  ... SLEEP_Adj95CI  STROKE_CrudePrev STROKE_Crude95CI  \\\n",
       "0                 36.3  ...  (38.9, 41.9)               5.3     ( 4.8,  6.0)   \n",
       "1                 38.2  ...  (40.2, 42.9)               5.7     ( 5.2,  6.4)   \n",
       "2                 34.2  ...  (40.8, 42.3)               4.8     ( 4.5,  5.1)   \n",
       "3                 36.3  ...  (36.7, 39.5)               4.2     ( 3.8,  4.6)   \n",
       "4                 38.4  ...  (43.8, 47.5)               6.2     ( 5.5,  6.9)   \n",
       "\n",
       "   STROKE_AdjPrev STROKE_Adj95CI  TEETHLOST_CrudePrev TEETHLOST_Crude95CI  \\\n",
       "0             4.7   ( 4.2,  5.2)                 25.4        (17.3, 34.2)   \n",
       "1             4.2   ( 3.8,  4.6)                 22.4        (15.8, 29.8)   \n",
       "2             4.2   ( 3.9,  4.4)                 20.6        (17.0, 24.9)   \n",
       "3             3.5   ( 3.2,  3.8)                 19.3        (14.3, 24.9)   \n",
       "4             5.4   ( 4.8,  5.9)                 25.2        (18.5, 33.0)   \n",
       "\n",
       "   TEETHLOST_AdjPrev TEETHLOST_Adj95CI                       Geolocation  \n",
       "0               26.0      (18.7, 33.2)    POINT (-85.524638 33.09136893)  \n",
       "1               21.9      (15.9, 28.4)  POINT (-85.25278085 31.56640742)  \n",
       "2               20.8      (17.1, 25.0)    POINT (-87.007999 33.62019948)  \n",
       "3               20.0      (14.7, 25.7)  POINT (-87.17656313 34.20163288)  \n",
       "4               25.3      (18.5, 32.6)  POINT (-87.74285611 32.87854106)  \n",
       "\n",
       "[5 rows x 118 columns]"
      ]
     },
     "execution_count": 80,
     "metadata": {},
     "output_type": "execute_result"
    }
   ],
   "source": [
    "disease20.head()"
   ]
  },
  {
   "cell_type": "markdown",
   "metadata": {},
   "source": [
    "Starting in 2020, the PLACES/500 Cities Project condensed all Nashville data to a single entry."
   ]
  },
  {
   "cell_type": "code",
   "execution_count": null,
   "metadata": {},
   "outputs": [],
   "source": []
  },
  {
   "cell_type": "code",
   "execution_count": 92,
   "metadata": {},
   "outputs": [],
   "source": [
    "TNfilter20 = disease20['StateAbbr'].isin(['TN'])\n",
    "chronic_disease_TN20 = disease20[TNfilter20]\n",
    "Nashfilter20 = chronic_disease_TN20['PlaceName'].isin(['Nashville-Davidson metropolitan government (balance)'])\n",
    "Nashdisease20 = chronic_disease_TN20[Nashfilter20]\n",
    "#Nashdisease20.to_excel('nashdisease2020.xlsx')"
   ]
  },
  {
   "cell_type": "code",
   "execution_count": 90,
   "metadata": {},
   "outputs": [],
   "source": [
    "#chronic_disease_TN20.to_excel('chronic_disease_TN20.xlsx')"
   ]
  },
  {
   "cell_type": "code",
   "execution_count": 93,
   "metadata": {},
   "outputs": [],
   "source": [
    "disease21 = pd.read_csv('/Users/k.simmons/Desktop/NSS/data analytics bootcamp/capstone/Data/unaltered data/PLACES__Place_Data__GIS_Friendly_Format___2021_release.csv')"
   ]
  },
  {
   "cell_type": "code",
   "execution_count": 94,
   "metadata": {},
   "outputs": [
    {
     "data": {
      "text/plain": [
       "(28484, 118)"
      ]
     },
     "execution_count": 94,
     "metadata": {},
     "output_type": "execute_result"
    }
   ],
   "source": [
    "disease20.shape"
   ]
  },
  {
   "cell_type": "code",
   "execution_count": 95,
   "metadata": {},
   "outputs": [],
   "source": [
    "TNfilter21 = disease21['StateAbbr'].isin(['TN'])\n",
    "chronic_disease_TN21 = disease21[TNfilter21]\n",
    "Nashfilter21 = chronic_disease_TN21['PlaceName'].isin(['Nashville-Davidson metropolitan government (balance)'])\n",
    "Nashdisease21 = chronic_disease_TN21[Nashfilter21]\n",
    "Nashdisease21.to_excel('nashdisease2021.xlsx')"
   ]
  }
 ],
 "metadata": {
  "interpreter": {
   "hash": "40d3a090f54c6569ab1632332b64b2c03c39dcf918b08424e98f38b5ae0af88f"
  },
  "kernelspec": {
   "display_name": "Python 3.9.7 ('base')",
   "language": "python",
   "name": "python3"
  },
  "language_info": {
   "codemirror_mode": {
    "name": "ipython",
    "version": 3
   },
   "file_extension": ".py",
   "mimetype": "text/x-python",
   "name": "python",
   "nbconvert_exporter": "python",
   "pygments_lexer": "ipython3",
   "version": "3.9.7"
  },
  "orig_nbformat": 4
 },
 "nbformat": 4,
 "nbformat_minor": 2
}
