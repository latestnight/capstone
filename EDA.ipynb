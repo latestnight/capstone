{
 "cells": [
  {
   "cell_type": "code",
   "execution_count": null,
   "metadata": {},
   "outputs": [],
   "source": [
    "import pandas as pd\n",
    "import geopandas as gpd\n",
    "import numpy as np\n",
    "import matplotlib.pyplot as plt\n",
    "%matplotlib inline\n",
    "import seaborn as sns\n",
    "import folium\n",
    "from folium import plugins\n",
    "from folium.plugins import MarkerCluster\n",
    "from folium.plugins import FastMarkerCluster\n",
    "pd.set_option('display.max_colwidth', None)"
   ]
  },
  {
   "cell_type": "code",
   "execution_count": null,
   "metadata": {},
   "outputs": [],
   "source": [
    "groceries_df = pd.read_csv('/Users/k.simmons/Desktop/NSS/data analytics bootcamp/capstone/Data/API_queries/groceries_df.csv')"
   ]
  },
  {
   "cell_type": "code",
   "execution_count": null,
   "metadata": {},
   "outputs": [],
   "source": [
    "groceries_df.head(2)"
   ]
  },
  {
   "cell_type": "code",
   "execution_count": null,
   "metadata": {},
   "outputs": [],
   "source": [
    "groceries_df.shape"
   ]
  },
  {
   "cell_type": "code",
   "execution_count": null,
   "metadata": {},
   "outputs": [],
   "source": [
    "groceries_df = groceries_df.drop_duplicates(subset=['shop_address'])"
   ]
  },
  {
   "cell_type": "code",
   "execution_count": null,
   "metadata": {},
   "outputs": [],
   "source": [
    "groceries_df.shape"
   ]
  },
  {
   "cell_type": "code",
   "execution_count": null,
   "metadata": {},
   "outputs": [],
   "source": [
    "groceries_df"
   ]
  },
  {
   "cell_type": "code",
   "execution_count": null,
   "metadata": {},
   "outputs": [],
   "source": [
    "if 'Unnamed: 0' in groceries_df.columns:\n",
    "    groceries_df = groceries_df.drop(columns= ['Unnamed: 0'])"
   ]
  },
  {
   "cell_type": "code",
   "execution_count": null,
   "metadata": {},
   "outputs": [],
   "source": [
    "groceries_df = groceries_df.reset_index(drop=True)"
   ]
  },
  {
   "cell_type": "code",
   "execution_count": null,
   "metadata": {},
   "outputs": [],
   "source": [
    "groceries_df"
   ]
  },
  {
   "cell_type": "code",
   "execution_count": null,
   "metadata": {},
   "outputs": [],
   "source": [
    "groceries_df.loc[:,'zip_code'] = ''"
   ]
  },
  {
   "cell_type": "code",
   "execution_count": null,
   "metadata": {},
   "outputs": [],
   "source": [
    "groceries_df['shop_address'][0][-5:]"
   ]
  },
  {
   "cell_type": "markdown",
   "metadata": {},
   "source": [
    "this code extracts zip codes from address field and populates empty zip column"
   ]
  },
  {
   "cell_type": "code",
   "execution_count": null,
   "metadata": {},
   "outputs": [],
   "source": [
    "n = 0\n",
    "for i in groceries_df['shop_address']:\n",
    "    groceries_df.at[n, 'zip_code'] = i[-5:]\n",
    "    n += 1\n",
    "\n",
    "groceries_df"
   ]
  },
  {
   "cell_type": "markdown",
   "metadata": {},
   "source": [
    "creating list of unique shop names to use for human filtering"
   ]
  },
  {
   "cell_type": "code",
   "execution_count": null,
   "metadata": {},
   "outputs": [],
   "source": [
    "shop_names = groceries_df['shop_name'].unique().tolist()\n",
    "\n"
   ]
  },
  {
   "cell_type": "code",
   "execution_count": null,
   "metadata": {},
   "outputs": [],
   "source": [
    "shop_names"
   ]
  },
  {
   "cell_type": "code",
   "execution_count": null,
   "metadata": {},
   "outputs": [],
   "source": [
    "groceries_df[groceries_df['shop_name'].isin(['Kroger'])]"
   ]
  },
  {
   "cell_type": "markdown",
   "metadata": {},
   "source": [
    "this code searches for pattern within a specified string and filters on the dataframe (for filtering by API 'type' parameter)"
   ]
  },
  {
   "cell_type": "code",
   "execution_count": null,
   "metadata": {},
   "outputs": [],
   "source": [
    "groceries_df[groceries_df['types'].str.contains('grocery_or_supermarket', regex = False)]"
   ]
  },
  {
   "cell_type": "markdown",
   "metadata": {},
   "source": [
    "this code does the same as above, but just lists boolean results without subsetting dataframe"
   ]
  },
  {
   "cell_type": "code",
   "execution_count": null,
   "metadata": {},
   "outputs": [],
   "source": [
    "groceries_df['types'].str.contains('grocery_or_supermarket', regex = False)"
   ]
  },
  {
   "cell_type": "code",
   "execution_count": 110,
   "metadata": {},
   "outputs": [],
   "source": [
    "ALDI_df = pd.read_csv('/Users/k.simmons/Desktop/NSS/data analytics bootcamp/capstone/Data/API_queries/ALDI_df.csv')\n",
    "bi_rite_df = pd.read_csv('/Users/k.simmons/Desktop/NSS/data analytics bootcamp/capstone/Data/API_queries/bi_rite_df.csv')\n",
    "food_lion_df = pd.read_csv('/Users/k.simmons/Desktop/NSS/data analytics bootcamp/capstone/Data/API_queries/food_lion_df.csv')\n",
    "HG_Hill_df = pd.read_csv('/Users/k.simmons/Desktop/NSS/data analytics bootcamp/capstone/Data/API_queries/HG_Hill_df.csv')\n",
    "kroger_df = pd.read_csv('/Users/k.simmons/Desktop/NSS/data analytics bootcamp/capstone/Data/API_queries/kroger_df.csv')\n",
    "piggly_wiggly_df = pd.read_csv('/Users/k.simmons/Desktop/NSS/data analytics bootcamp/capstone/Data/API_queries/piggly_wiggly_df.csv')\n",
    "publix_df = pd.read_csv('/Users/k.simmons/Desktop/NSS/data analytics bootcamp/capstone/Data/API_queries/publix_df.csv')\n",
    "save_a_lot_df = pd.read_csv('/Users/k.simmons/Desktop/NSS/data analytics bootcamp/capstone/Data/API_queries/save_a_lot_df.csv')\n",
    "target_df = pd.read_csv('/Users/k.simmons/Desktop/NSS/data analytics bootcamp/capstone/Data/API_queries/target_df.csv')\n",
    "trader_joes_df = pd.read_csv('/Users/k.simmons/Desktop/NSS/data analytics bootcamp/capstone/Data/API_queries/trader_joes_df.csv')\n",
    "turnip_truck_df = pd.read_csv('/Users/k.simmons/Desktop/NSS/data analytics bootcamp/capstone/Data/API_queries/turnip_truck_df.csv')\n",
    "walmart_df = pd.read_csv('/Users/k.simmons/Desktop/NSS/data analytics bootcamp/capstone/Data/API_queries/walmart_df.csv')\n",
    "whole_foods_df = pd.read_csv('/Users/k.simmons/Desktop/NSS/data analytics bootcamp/capstone/Data/API_queries/whole_foods_df.csv')"
   ]
  },
  {
   "cell_type": "code",
   "execution_count": 111,
   "metadata": {},
   "outputs": [],
   "source": [
    "grocery_dict = {\n",
    "                'ALDI' : ALDI_df,\n",
    "                'bi_rite' : bi_rite_df,\n",
    "                'food_lion' : food_lion_df,\n",
    "                'HG_Hill' : HG_Hill_df,\n",
    "                'kroger' : kroger_df,\n",
    "                'piggly_wiggly' : piggly_wiggly_df,\n",
    "                'publix' : publix_df,\n",
    "                'save_a_lot' : save_a_lot_df,\n",
    "                'target' : target_df,\n",
    "                'trader_joes' : trader_joes_df,\n",
    "                'turnip_truck' : turnip_truck_df,\n",
    "                'walmart' : walmart_df,\n",
    "                'whole_foods' : whole_foods_df,\n",
    "}"
   ]
  },
  {
   "cell_type": "code",
   "execution_count": 114,
   "metadata": {},
   "outputs": [
    {
     "data": {
      "text/html": [
       "<div>\n",
       "<style scoped>\n",
       "    .dataframe tbody tr th:only-of-type {\n",
       "        vertical-align: middle;\n",
       "    }\n",
       "\n",
       "    .dataframe tbody tr th {\n",
       "        vertical-align: top;\n",
       "    }\n",
       "\n",
       "    .dataframe thead th {\n",
       "        text-align: right;\n",
       "    }\n",
       "</style>\n",
       "<table border=\"1\" class=\"dataframe\">\n",
       "  <thead>\n",
       "    <tr style=\"text-align: right;\">\n",
       "      <th></th>\n",
       "      <th>Unnamed: 0</th>\n",
       "      <th>shop_name</th>\n",
       "      <th>shop_address</th>\n",
       "      <th>shop_lat</th>\n",
       "      <th>shop_lng</th>\n",
       "      <th>types</th>\n",
       "    </tr>\n",
       "  </thead>\n",
       "  <tbody>\n",
       "    <tr>\n",
       "      <th>0</th>\n",
       "      <td>0</td>\n",
       "      <td>Kroger</td>\n",
       "      <td>3410 Gallatin Pike, Nashville, TN 37216</td>\n",
       "      <td>36.210136</td>\n",
       "      <td>-86.731665</td>\n",
       "      <td>['grocery_or_supermarket', 'food', 'point_of_interest', 'store', 'establishment']</td>\n",
       "    </tr>\n",
       "    <tr>\n",
       "      <th>1</th>\n",
       "      <td>1</td>\n",
       "      <td>Kroger</td>\n",
       "      <td>2615 Franklin Pike, Nashville, TN 37204</td>\n",
       "      <td>36.119945</td>\n",
       "      <td>-86.777180</td>\n",
       "      <td>['grocery_or_supermarket', 'food', 'point_of_interest', 'store', 'establishment']</td>\n",
       "    </tr>\n",
       "    <tr>\n",
       "      <th>2</th>\n",
       "      <td>2</td>\n",
       "      <td>Kroger</td>\n",
       "      <td>2201 21st Ave S, Nashville, TN 37212</td>\n",
       "      <td>36.130189</td>\n",
       "      <td>-86.802611</td>\n",
       "      <td>['grocery_or_supermarket', 'food', 'point_of_interest', 'store', 'establishment']</td>\n",
       "    </tr>\n",
       "    <tr>\n",
       "      <th>3</th>\n",
       "      <td>3</td>\n",
       "      <td>Kroger</td>\n",
       "      <td>7087 Hwy 70 S, Nashville, TN 37221</td>\n",
       "      <td>36.073200</td>\n",
       "      <td>-86.919587</td>\n",
       "      <td>['grocery_or_supermarket', 'food', 'point_of_interest', 'store', 'establishment']</td>\n",
       "    </tr>\n",
       "    <tr>\n",
       "      <th>4</th>\n",
       "      <td>4</td>\n",
       "      <td>Kroger</td>\n",
       "      <td>8141 TN-100, Nashville, TN 37221</td>\n",
       "      <td>36.043341</td>\n",
       "      <td>-86.956532</td>\n",
       "      <td>['grocery_or_supermarket', 'food', 'point_of_interest', 'store', 'establishment']</td>\n",
       "    </tr>\n",
       "    <tr>\n",
       "      <th>...</th>\n",
       "      <td>...</td>\n",
       "      <td>...</td>\n",
       "      <td>...</td>\n",
       "      <td>...</td>\n",
       "      <td>...</td>\n",
       "      <td>...</td>\n",
       "    </tr>\n",
       "    <tr>\n",
       "      <th>550</th>\n",
       "      <td>550</td>\n",
       "      <td>Kroger</td>\n",
       "      <td>4432 Veterans Pkwy, Murfreesboro, TN 37128</td>\n",
       "      <td>35.844804</td>\n",
       "      <td>-86.492158</td>\n",
       "      <td>['grocery_or_supermarket', 'food', 'point_of_interest', 'store', 'establishment']</td>\n",
       "    </tr>\n",
       "    <tr>\n",
       "      <th>551</th>\n",
       "      <td>551</td>\n",
       "      <td>Kroger Pharmacy</td>\n",
       "      <td>5705 Charlotte Pike, Nashville, TN 37209</td>\n",
       "      <td>36.148467</td>\n",
       "      <td>-86.860813</td>\n",
       "      <td>['pharmacy', 'health', 'point_of_interest', 'store', 'establishment']</td>\n",
       "    </tr>\n",
       "    <tr>\n",
       "      <th>552</th>\n",
       "      <td>552</td>\n",
       "      <td>Kroger Pharmacy</td>\n",
       "      <td>2284 Murfreesboro Pike, Nashville, TN 37217</td>\n",
       "      <td>36.088542</td>\n",
       "      <td>-86.647257</td>\n",
       "      <td>['pharmacy', 'health', 'point_of_interest', 'store', 'establishment']</td>\n",
       "    </tr>\n",
       "    <tr>\n",
       "      <th>553</th>\n",
       "      <td>553</td>\n",
       "      <td>Kroger Pharmacy</td>\n",
       "      <td>3930 Clarksville Hwy, Nashville, TN 37218</td>\n",
       "      <td>36.209598</td>\n",
       "      <td>-86.837592</td>\n",
       "      <td>['pharmacy', 'health', 'point_of_interest', 'store', 'establishment']</td>\n",
       "    </tr>\n",
       "    <tr>\n",
       "      <th>554</th>\n",
       "      <td>554</td>\n",
       "      <td>Kroger Deli</td>\n",
       "      <td>2201 21st Ave S, Nashville, TN 37212</td>\n",
       "      <td>36.130139</td>\n",
       "      <td>-86.802785</td>\n",
       "      <td>['food', 'point_of_interest', 'store', 'establishment']</td>\n",
       "    </tr>\n",
       "  </tbody>\n",
       "</table>\n",
       "<p>555 rows × 6 columns</p>\n",
       "</div>"
      ],
      "text/plain": [
       "     Unnamed: 0        shop_name                                 shop_address  \\\n",
       "0             0           Kroger      3410 Gallatin Pike, Nashville, TN 37216   \n",
       "1             1           Kroger      2615 Franklin Pike, Nashville, TN 37204   \n",
       "2             2           Kroger         2201 21st Ave S, Nashville, TN 37212   \n",
       "3             3           Kroger           7087 Hwy 70 S, Nashville, TN 37221   \n",
       "4             4           Kroger             8141 TN-100, Nashville, TN 37221   \n",
       "..          ...              ...                                          ...   \n",
       "550         550           Kroger   4432 Veterans Pkwy, Murfreesboro, TN 37128   \n",
       "551         551  Kroger Pharmacy     5705 Charlotte Pike, Nashville, TN 37209   \n",
       "552         552  Kroger Pharmacy  2284 Murfreesboro Pike, Nashville, TN 37217   \n",
       "553         553  Kroger Pharmacy    3930 Clarksville Hwy, Nashville, TN 37218   \n",
       "554         554      Kroger Deli         2201 21st Ave S, Nashville, TN 37212   \n",
       "\n",
       "      shop_lat   shop_lng  \\\n",
       "0    36.210136 -86.731665   \n",
       "1    36.119945 -86.777180   \n",
       "2    36.130189 -86.802611   \n",
       "3    36.073200 -86.919587   \n",
       "4    36.043341 -86.956532   \n",
       "..         ...        ...   \n",
       "550  35.844804 -86.492158   \n",
       "551  36.148467 -86.860813   \n",
       "552  36.088542 -86.647257   \n",
       "553  36.209598 -86.837592   \n",
       "554  36.130139 -86.802785   \n",
       "\n",
       "                                                                                 types  \n",
       "0    ['grocery_or_supermarket', 'food', 'point_of_interest', 'store', 'establishment']  \n",
       "1    ['grocery_or_supermarket', 'food', 'point_of_interest', 'store', 'establishment']  \n",
       "2    ['grocery_or_supermarket', 'food', 'point_of_interest', 'store', 'establishment']  \n",
       "3    ['grocery_or_supermarket', 'food', 'point_of_interest', 'store', 'establishment']  \n",
       "4    ['grocery_or_supermarket', 'food', 'point_of_interest', 'store', 'establishment']  \n",
       "..                                                                                 ...  \n",
       "550  ['grocery_or_supermarket', 'food', 'point_of_interest', 'store', 'establishment']  \n",
       "551              ['pharmacy', 'health', 'point_of_interest', 'store', 'establishment']  \n",
       "552              ['pharmacy', 'health', 'point_of_interest', 'store', 'establishment']  \n",
       "553              ['pharmacy', 'health', 'point_of_interest', 'store', 'establishment']  \n",
       "554                            ['food', 'point_of_interest', 'store', 'establishment']  \n",
       "\n",
       "[555 rows x 6 columns]"
      ]
     },
     "execution_count": 114,
     "metadata": {},
     "output_type": "execute_result"
    }
   ],
   "source": [
    "grocery_dict['kroger']"
   ]
  },
  {
   "cell_type": "code",
   "execution_count": null,
   "metadata": {},
   "outputs": [],
   "source": [
    "DFs = []\n",
    "for zip_code in zip_codes:\n",
    "     for key in zip_codes[zip_code]['dataframe']:\n",
    "        DFs.append(zip_codes[zip_code]['dataframe'][key])\n",
    "\n",
    "allqueries_df = pd.concat(DFs, ignore_index=True)"
   ]
  },
  {
   "cell_type": "code",
   "execution_count": 115,
   "metadata": {},
   "outputs": [
    {
     "ename": "AttributeError",
     "evalue": "'str' object has no attribute 'drop'",
     "output_type": "error",
     "traceback": [
      "\u001b[0;31m---------------------------------------------------------------------------\u001b[0m",
      "\u001b[0;31mAttributeError\u001b[0m                            Traceback (most recent call last)",
      "\u001b[1;32m/Users/k.simmons/Desktop/NSS/data analytics bootcamp/capstone/EDA.ipynb Cell 27'\u001b[0m in \u001b[0;36m<cell line: 1>\u001b[0;34m()\u001b[0m\n\u001b[1;32m      <a href='vscode-notebook-cell:/Users/k.simmons/Desktop/NSS/data%20analytics%20bootcamp/capstone/EDA.ipynb#ch0000028?line=0'>1</a>\u001b[0m \u001b[39mfor\u001b[39;00m grocery \u001b[39min\u001b[39;00m grocery_dict:\n\u001b[1;32m      <a href='vscode-notebook-cell:/Users/k.simmons/Desktop/NSS/data%20analytics%20bootcamp/capstone/EDA.ipynb#ch0000028?line=1'>2</a>\u001b[0m     \u001b[39mif\u001b[39;00m \u001b[39m'\u001b[39m\u001b[39mUnnamed: 0\u001b[39m\u001b[39m'\u001b[39m \u001b[39min\u001b[39;00m grocery_dict[grocery]\u001b[39m.\u001b[39mcolumns:\n\u001b[0;32m----> <a href='vscode-notebook-cell:/Users/k.simmons/Desktop/NSS/data%20analytics%20bootcamp/capstone/EDA.ipynb#ch0000028?line=2'>3</a>\u001b[0m         grocery \u001b[39m=\u001b[39m grocery\u001b[39m.\u001b[39;49mdrop(columns\u001b[39m=\u001b[39m [\u001b[39m'\u001b[39m\u001b[39mUnnamed: 0\u001b[39m\u001b[39m'\u001b[39m])\n\u001b[1;32m      <a href='vscode-notebook-cell:/Users/k.simmons/Desktop/NSS/data%20analytics%20bootcamp/capstone/EDA.ipynb#ch0000028?line=4'>5</a>\u001b[0m     grocery\u001b[39m.\u001b[39mloc[:,\u001b[39m'\u001b[39m\u001b[39mzip_code\u001b[39m\u001b[39m'\u001b[39m] \u001b[39m=\u001b[39m \u001b[39m'\u001b[39m\u001b[39m'\u001b[39m\n\u001b[1;32m      <a href='vscode-notebook-cell:/Users/k.simmons/Desktop/NSS/data%20analytics%20bootcamp/capstone/EDA.ipynb#ch0000028?line=6'>7</a>\u001b[0m     n \u001b[39m=\u001b[39m \u001b[39m0\u001b[39m\n",
      "\u001b[0;31mAttributeError\u001b[0m: 'str' object has no attribute 'drop'"
     ]
    }
   ],
   "source": [
    "for grocery in grocery_dict:\n",
    "    if 'Unnamed: 0' in grocery_dict[grocery].columns:\n",
    "        grocery = grocery.drop(columns= ['Unnamed: 0'])\n",
    "\n",
    "    grocery.loc[:,'zip_code'] = ''\n",
    "    \n",
    "    n = 0\n",
    "    for i in grocery['shop_address']:\n",
    "        groceries_df.at[n, 'zip_code'] = i[-5:]\n",
    "        n += 1"
   ]
  },
  {
   "cell_type": "code",
   "execution_count": null,
   "metadata": {},
   "outputs": [],
   "source": []
  }
 ],
 "metadata": {
  "interpreter": {
   "hash": "d711d3c95c96716b4a626a9ac1cdbb3ae5e410baae0045fe5d148912e2703fdb"
  },
  "kernelspec": {
   "display_name": "Python 3.8.5 ('geospatial')",
   "language": "python",
   "name": "python3"
  },
  "language_info": {
   "codemirror_mode": {
    "name": "ipython",
    "version": 3
   },
   "file_extension": ".py",
   "mimetype": "text/x-python",
   "name": "python",
   "nbconvert_exporter": "python",
   "pygments_lexer": "ipython3",
   "version": "3.8.5"
  },
  "orig_nbformat": 4
 },
 "nbformat": 4,
 "nbformat_minor": 2
}
