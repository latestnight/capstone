{
 "cells": [
  {
   "cell_type": "code",
   "execution_count": 1,
   "metadata": {},
   "outputs": [],
   "source": [
    "import pandas as pd\n",
    "import geopandas as gpd"
   ]
  },
  {
   "cell_type": "code",
   "execution_count": 2,
   "metadata": {},
   "outputs": [],
   "source": [
    "zip_geo = gpd.read_file('/Users/k.simmons/Desktop/NSS/data analytics bootcamp/capstone/Data/zipcodes.geojson')\n",
    "merged_groceries = pd.read_csv('/Users/k.simmons/Desktop/NSS/data analytics bootcamp/capstone/Data/merged_groceries.csv')\n",
    "nashdisease16 = pd.read_csv('/Users/k.simmons/Desktop/NSS/data analytics bootcamp/capstone/Data/CDC data/CDC fixed relationships/nashdisease16.csv')\n",
    "nashdisease17 = pd.read_csv('/Users/k.simmons/Desktop/NSS/data analytics bootcamp/capstone/Data/CDC data/CDC fixed relationships/nashdisease17.csv')\n",
    "nashdisease18 = pd.read_csv('/Users/k.simmons/Desktop/NSS/data analytics bootcamp/capstone/Data/CDC data/CDC fixed relationships/nashdisease18.csv')\n",
    "nashdisease19 = pd.read_csv('/Users/k.simmons/Desktop/NSS/data analytics bootcamp/capstone/Data/CDC data/CDC fixed relationships/nashdisease19.csv')"
   ]
  },
  {
   "cell_type": "code",
   "execution_count": 8,
   "metadata": {},
   "outputs": [],
   "source": [
    "zip_geo['zip'] = zip_geo['zip'].astype(int)"
   ]
  },
  {
   "cell_type": "code",
   "execution_count": 10,
   "metadata": {},
   "outputs": [],
   "source": [
    "zip_geo.to_csv('Data/zipgeo.csv')"
   ]
  },
  {
   "cell_type": "code",
   "execution_count": 5,
   "metadata": {},
   "outputs": [
    {
     "name": "stdout",
     "output_type": "stream",
     "text": [
      "<class 'pandas.core.frame.DataFrame'>\n",
      "RangeIndex: 209 entries, 0 to 208\n",
      "Data columns (total 65 columns):\n",
      " #   Column                  Non-Null Count  Dtype  \n",
      "---  ------                  --------------  -----  \n",
      " 0   Unnamed: 0              209 non-null    int64  \n",
      " 1   StateAbbr               209 non-null    object \n",
      " 2   PlaceName               209 non-null    object \n",
      " 3   PlaceFIPS               209 non-null    int64  \n",
      " 4   TractFIPS               209 non-null    int64  \n",
      " 5   Place_TractID           209 non-null    object \n",
      " 6   Population2010          209 non-null    int64  \n",
      " 7   ACCESS2_CrudePrev       209 non-null    float64\n",
      " 8   ACCESS2_Crude95CI       209 non-null    object \n",
      " 9   ARTHRITIS_CrudePrev     209 non-null    float64\n",
      " 10  ARTHRITIS_Crude95CI     209 non-null    object \n",
      " 11  BINGE_CrudePrev         209 non-null    float64\n",
      " 12  BINGE_Crude95CI         209 non-null    object \n",
      " 13  BPHIGH_CrudePrev        209 non-null    float64\n",
      " 14  BPHIGH_Crude95CI        209 non-null    object \n",
      " 15  BPMED_CrudePrev         209 non-null    float64\n",
      " 16  BPMED_Crude95CI         209 non-null    object \n",
      " 17  CANCER_CrudePrev        209 non-null    float64\n",
      " 18  CANCER_Crude95CI        209 non-null    object \n",
      " 19  CASTHMA_CrudePrev       209 non-null    float64\n",
      " 20  CASTHMA_Crude95CI       209 non-null    object \n",
      " 21  CHD_CrudePrev           209 non-null    float64\n",
      " 22  CHD_Crude95CI           209 non-null    object \n",
      " 23  CHECKUP_CrudePrev       209 non-null    float64\n",
      " 24  CHECKUP_Crude95CI       209 non-null    object \n",
      " 25  CHOLSCREEN_CrudePrev    209 non-null    float64\n",
      " 26  CHOLSCREEN_Crude95CI    209 non-null    object \n",
      " 27  COLON_SCREEN_CrudePrev  209 non-null    float64\n",
      " 28  COLON_SCREEN_Crude95CI  209 non-null    object \n",
      " 29  COPD_CrudePrev          209 non-null    float64\n",
      " 30  COPD_Crude95CI          209 non-null    object \n",
      " 31  COREM_CrudePrev         209 non-null    float64\n",
      " 32  COREM_Crude95CI         209 non-null    object \n",
      " 33  COREW_CrudePrev         208 non-null    float64\n",
      " 34  COREW_Crude95CI         208 non-null    object \n",
      " 35  CSMOKING_CrudePrev      209 non-null    float64\n",
      " 36  CSMOKING_Crude95CI      209 non-null    object \n",
      " 37  DENTAL_CrudePrev        209 non-null    float64\n",
      " 38  DENTAL_Crude95CI        209 non-null    object \n",
      " 39  DIABETES_CrudePrev      209 non-null    float64\n",
      " 40  DIABETES_Crude95CI      209 non-null    object \n",
      " 41  HIGHCHOL_CrudePrev      209 non-null    float64\n",
      " 42  HIGHCHOL_Crude95CI      209 non-null    object \n",
      " 43  KIDNEY_CrudePrev        209 non-null    float64\n",
      " 44  KIDNEY_Crude95CI        209 non-null    object \n",
      " 45  LPA_CrudePrev           209 non-null    float64\n",
      " 46  LPA_Crude95CI           209 non-null    object \n",
      " 47  MAMMOUSE_CrudePrev      209 non-null    float64\n",
      " 48  MAMMOUSE_Crude95CI      209 non-null    object \n",
      " 49  MHLTH_CrudePrev         209 non-null    float64\n",
      " 50  MHLTH_Crude95CI         209 non-null    object \n",
      " 51  OBESITY_CrudePrev       209 non-null    float64\n",
      " 52  OBESITY_Crude95CI       209 non-null    object \n",
      " 53  PAPTEST_CrudePrev       209 non-null    float64\n",
      " 54  PAPTEST_Crude95CI       209 non-null    object \n",
      " 55  PHLTH_CrudePrev         209 non-null    float64\n",
      " 56  PHLTH_Crude95CI         209 non-null    object \n",
      " 57  SLEEP_CrudePrev         209 non-null    float64\n",
      " 58  SLEEP_Crude95CI         209 non-null    object \n",
      " 59  STROKE_CrudePrev        209 non-null    float64\n",
      " 60  STROKE_Crude95CI        209 non-null    object \n",
      " 61  TEETHLOST_CrudePrev     209 non-null    float64\n",
      " 62  TEETHLOST_Crude95CI     209 non-null    object \n",
      " 63  Geolocation             209 non-null    object \n",
      " 64  zipunpacked             209 non-null    int64  \n",
      "dtypes: float64(28), int64(5), object(32)\n",
      "memory usage: 106.3+ KB\n"
     ]
    }
   ],
   "source": [
    "nashdisease16.info()"
   ]
  },
  {
   "cell_type": "code",
   "execution_count": null,
   "metadata": {},
   "outputs": [],
   "source": []
  }
 ],
 "metadata": {
  "interpreter": {
   "hash": "d711d3c95c96716b4a626a9ac1cdbb3ae5e410baae0045fe5d148912e2703fdb"
  },
  "kernelspec": {
   "display_name": "Python 3.8.5 ('geospatial')",
   "language": "python",
   "name": "python3"
  },
  "language_info": {
   "codemirror_mode": {
    "name": "ipython",
    "version": 3
   },
   "file_extension": ".py",
   "mimetype": "text/x-python",
   "name": "python",
   "nbconvert_exporter": "python",
   "pygments_lexer": "ipython3",
   "version": "3.8.5"
  },
  "orig_nbformat": 4
 },
 "nbformat": 4,
 "nbformat_minor": 2
}
